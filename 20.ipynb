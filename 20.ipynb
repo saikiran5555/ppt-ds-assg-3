{
 "cells": [
  {
   "cell_type": "markdown",
   "id": "030baa7b",
   "metadata": {},
   "source": [
    "To perform a multiple regression analysis to predict sales based on advertising expenditure, we can use the least squares method to fit a linear regression model to the data. The multiple regression equation can then be used to predict sales for a given advertising expenditure.\n",
    "\n",
    "Given the data:\n",
    "Advertising Expenditure (in thousands): [10, 15, 12, 8, 14]\n",
    "Sales (in thousands): [25, 30, 28, 20, 26]\n",
    "\n",
    "Step 1: Set up the regression equation.\n",
    "Sales = β0 + β1 * Advertising Expenditure\n",
    "\n",
    "Step 2: Calculate the means of both variables.\n",
    "Mean of Advertising Expenditure = (10 + 15 + 12 + 8 + 14) / 5 = 11.8\n",
    "Mean of Sales = (25 + 30 + 28 + 20 + 26) / 5 = 25.8\n",
    "\n",
    "Step 3: Calculate the deviations from the means for each variable.\n",
    "Deviation for Advertising Expenditure = [10 - 11.8, 15 - 11.8, 12 - 11.8, 8 - 11.8, 14 - 11.8] = [-1.8, 3.2, 0.2, -3.8, 2.2]\n",
    "Deviation for Sales = [25 - 25.8, 30 - 25.8, 28 - 25.8, 20 - 25.8, 26 - 25.8] = [-0.8, 4.2, 2.2, -5.8, 0.2]\n",
    "\n",
    "Step 4: Calculate the product of the deviations for each pair of data points.\n",
    "Product of Deviations = [-1.8 * -0.8, 3.2 * 4.2, 0.2 * 2.2, -3.8 * -5.8, 2.2 * 0.2] = [1.44, 13.44, 0.44, 22.04, 0.44]\n",
    "\n",
    "Step 5: Calculate the squared deviations for each variable.\n",
    "Squared Deviation for Advertising Expenditure = [-1.8^2, 3.2^2, 0.2^2, -3.8^2, 2.2^2] = [3.24, 10.24, 0.04, 14.44, 4.84]\n",
    "Squared Deviation for Sales = [-0.8^2, 4.2^2, 2.2^2, -5.8^2, 0.2^2] = [0.64, 17.64, 4.84, 33.64, 0.04]\n",
    "\n",
    "Step 6: Calculate the sum of the product of deviations and the sum of the squared deviations for each variable.\n",
    "Sum of Product of Deviations = 1.44 + 13.44 + 0.44 + 22.04 + 0.44 = 37.8\n",
    "Sum of Squared Deviation for Advertising Expenditure = 3.24 + 10.24 + 0.04 + 14.44 + 4.84 = 33.8\n",
    "Sum of Squared Deviation for Sales = 0.64 + 17.64 + 4.84 + 33.64 + 0.04 = 57.8\n",
    "\n",
    "Step 7: Calculate the slope (β1) of the regression line.\n",
    "β1 = Sum of Product of Deviations / Sum of Squared Deviation for Advertising Expenditure\n",
    "    = 37.8 / 33.8 ≈ 1.118\n",
    "\n",
    "Step 8: Calculate the y-intercept (β0) of the regression line.\n",
    "β0 = Mean of Sales - (β1 * Mean of Advertising Expenditure)\n",
    "    = 25.8 - (1.118 * 11.8) ≈ 12.824\n",
    "\n",
    "The regression line equation is: Sales = 12.824 + 1.118 * Advertising Expenditure\n",
    "\n",
    "Therefore, based on the multiple regression analysis, the equation can be used to predict sales based on advertising expenditure. The slope (1.118) indicates that for every unit increase in advertising expenditure, sales tend to increase by approximately 1.118 units. The y-intercept (12.824) represents the predicted sales when the advertising expenditure is zero (which may not be meaningful in this context).\n",
    "\n",
    "Note: It is important to interpret the results of a multiple regression analysis carefully, considering assumptions, limitations, and the context of the data."
   ]
  }
 ],
 "metadata": {
  "kernelspec": {
   "display_name": "Python 3 (ipykernel)",
   "language": "python",
   "name": "python3"
  },
  "language_info": {
   "codemirror_mode": {
    "name": "ipython",
    "version": 3
   },
   "file_extension": ".py",
   "mimetype": "text/x-python",
   "name": "python",
   "nbconvert_exporter": "python",
   "pygments_lexer": "ipython3",
   "version": "3.10.9"
  }
 },
 "nbformat": 4,
 "nbformat_minor": 5
}
