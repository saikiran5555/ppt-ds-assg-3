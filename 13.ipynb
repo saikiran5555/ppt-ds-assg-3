{
 "cells": [
  {
   "cell_type": "markdown",
   "id": "ac78be9e",
   "metadata": {},
   "source": [
    "To calculate the 95% confidence interval for the population mean satisfaction score, we can use the following formula:\n",
    "\n",
    "Confidence Interval = Sample Mean ± (Critical Value * Standard Error)\n",
    "\n",
    "Given the data:\n",
    "Satisfaction scores: [7, 9, 6, 8, 10, 7, 8, 9, 7, 8]\n",
    "\n",
    "Step 1: Calculate the sample mean.\n",
    "Sample mean = (7 + 9 + 6 + 8 + 10 + 7 + 8 + 9 + 7 + 8) / 10 = 8\n",
    "\n",
    "Step 2: Calculate the sample standard deviation.\n",
    "Sample standard deviation = sqrt(((7 - 8)^2 + (9 - 8)^2 + (6 - 8)^2 + (8 - 8)^2 + (10 - 8)^2 + (7 - 8)^2 + (8 - 8)^2 + (9 - 8)^2 + (7 - 8)^2 + (8 - 8)^2) / (10 - 1))\n",
    "                       = sqrt(10 / 9) ≈ 1.054\n",
    "\n",
    "Step 3: Determine the critical value for a 95% confidence level.\n",
    "The critical value depends on the desired confidence level and the sample size. For a 95% confidence level with a sample size of 10, the critical value is approximately 2.262 (obtained from a t-distribution table or statistical software).\n",
    "\n",
    "Step 4: Calculate the standard error.\n",
    "Standard error = Sample standard deviation / sqrt(Sample size)\n",
    "              = 1.054 / sqrt(10) ≈ 0.333\n",
    "\n",
    "Step 5: Calculate the lower and upper bounds of the confidence interval.\n",
    "Lower bound = Sample mean - (Critical value * Standard error)\n",
    "           = 8 - (2.262 * 0.333) ≈ 7.260\n",
    "Upper bound = Sample mean + (Critical value * Standard error)\n",
    "           = 8 + (2.262 * 0.333) ≈ 8.740\n",
    "\n",
    "Step 6: Construct the confidence interval.\n",
    "The 95% confidence interval for the population mean satisfaction score is approximately 7.260 to 8.740.\n",
    "\n",
    "Therefore, we can be 95% confident that the true population mean satisfaction score falls within the range of 7.260 to 8.740 based on the given sample data."
   ]
  }
 ],
 "metadata": {
  "kernelspec": {
   "display_name": "Python 3 (ipykernel)",
   "language": "python",
   "name": "python3"
  },
  "language_info": {
   "codemirror_mode": {
    "name": "ipython",
    "version": 3
   },
   "file_extension": ".py",
   "mimetype": "text/x-python",
   "name": "python",
   "nbconvert_exporter": "python",
   "pygments_lexer": "ipython3",
   "version": "3.10.9"
  }
 },
 "nbformat": 4,
 "nbformat_minor": 5
}
