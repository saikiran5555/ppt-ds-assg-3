{
 "cells": [
  {
   "cell_type": "markdown",
   "id": "322a45c9",
   "metadata": {},
   "source": [
    "To calculate the correlation coefficient between advertising expenditure and sales, we can use the Pearson correlation coefficient formula. The correlation coefficient measures the strength and direction of the linear relationship between two variables.\n",
    "\n",
    "Given the data:\n",
    "Advertising Expenditure (in thousands): [10, 15, 12, 8, 14]\n",
    "Sales (in thousands): [25, 30, 28, 20, 26]\n",
    "\n",
    "Step 1: Calculate the means of both variables.\n",
    "Mean of Advertising Expenditure = (10 + 15 + 12 + 8 + 14) / 5 = 11.8\n",
    "Mean of Sales = (25 + 30 + 28 + 20 + 26) / 5 = 25.8\n",
    "\n",
    "Step 2: Calculate the deviations from the mean for each variable.\n",
    "Deviation for Advertising Expenditure = [10 - 11.8, 15 - 11.8, 12 - 11.8, 8 - 11.8, 14 - 11.8] = [-1.8, 3.2, 0.2, -3.8, 2.2]\n",
    "Deviation for Sales = [25 - 25.8, 30 - 25.8, 28 - 25.8, 20 - 25.8, 26 - 25.8] = [-0.8, 4.2, 2.2, -5.8, 0.2]\n",
    "\n",
    "Step 3: Calculate the product of the deviations for each pair of data points.\n",
    "Product of Deviations = [-1.8 * -0.8, 3.2 * 4.2, 0.2 * 2.2, -3.8 * -5.8, 2.2 * 0.2] = [1.44, 13.44, 0.44, 22.04, 0.44]\n",
    "\n",
    "Step 4: Calculate the squared deviations for each variable.\n",
    "Squared Deviation for Advertising Expenditure = [-1.8^2, 3.2^2, 0.2^2, -3.8^2, 2.2^2] = [3.24, 10.24, 0.04, 14.44, 4.84]\n",
    "Squared Deviation for Sales = [-0.8^2, 4.2^2, 2.2^2, -5.8^2, 0.2^2] = [0.64, 17.64, 4.84, 33.64, 0.04]\n",
    "\n",
    "Step 5: Calculate the sum of the product of deviations and the sum of the squared deviations for each variable.\n",
    "Sum of Product of Deviations = 1.44 + 13.44 + 0.44 + 22.04 + 0.44 = 37.8\n",
    "Sum of Squared Deviation for Advertising Expenditure = 3.24 + 10.24 + 0.04 + 14.44 + 4.84 = 33.8\n",
    "Sum of Squared Deviation for Sales = 0.64 + 17.64 + 4.84 + 33.64 + 0.04 = 57.8\n",
    "\n",
    "Step 6: Calculate the correlation coefficient (Pearson's r).\n",
    "Correlation Coefficient (r) = Sum of Product of Deviations / sqrt(Sum of Squared Deviation for Advertising Expenditure * Sum of Squared Deviation for Sales)\n",
    "Correlation Coefficient (r) = 37.8 / sqrt(33.8 * 57.8) ≈ 0.824\n",
    "\n",
    "Therefore, the correlation coefficient between advertising expenditure and sales is approximately 0.824. This indicates a strong positive correlation between the two variables, suggesting that as advertising expenditure increases, sales also tend to increase."
   ]
  }
 ],
 "metadata": {
  "kernelspec": {
   "display_name": "Python 3 (ipykernel)",
   "language": "python",
   "name": "python3"
  },
  "language_info": {
   "codemirror_mode": {
    "name": "ipython",
    "version": 3
   },
   "file_extension": ".py",
   "mimetype": "text/x-python",
   "name": "python",
   "nbconvert_exporter": "python",
   "pygments_lexer": "ipython3",
   "version": "3.10.9"
  }
 },
 "nbformat": 4,
 "nbformat_minor": 5
}
