{
 "cells": [
  {
   "cell_type": "markdown",
   "id": "910886bf",
   "metadata": {},
   "source": [
    "To calculate the 75th percentile of the feedback ratings, we need to determine the value below which 75% of the data falls.\n",
    "\n",
    "Given the data set [8, 9, 7, 6, 8, 10, 9, 8, 7, 8], we can first sort the data in ascending order:\n",
    "\n",
    "[6, 7, 7, 8, 8, 8, 8, 9, 9, 10]\n",
    "\n",
    "To find the 75th percentile, we need to locate the value that is greater than 75% of the data and less than or equal to the remaining 25% of the data.\n",
    "\n",
    "75% of the data is equal to (75/100) * 10 = 7.5. Since we have a discrete data set, we can round up to the nearest whole number. Therefore, the 75th percentile corresponds to the value in the 8th position in the sorted data set, which is 9.\n",
    "\n",
    "Hence, the 75th percentile of the feedback ratings is 9."
   ]
  }
 ],
 "metadata": {
  "kernelspec": {
   "display_name": "Python 3 (ipykernel)",
   "language": "python",
   "name": "python3"
  },
  "language_info": {
   "codemirror_mode": {
    "name": "ipython",
    "version": 3
   },
   "file_extension": ".py",
   "mimetype": "text/x-python",
   "name": "python",
   "nbconvert_exporter": "python",
   "pygments_lexer": "ipython3",
   "version": "3.10.9"
  }
 },
 "nbformat": 4,
 "nbformat_minor": 5
}
