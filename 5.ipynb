{
 "cells": [
  {
   "cell_type": "markdown",
   "id": "51d7ec04",
   "metadata": {},
   "source": [
    "To perform a t-test to determine if there is a significant difference in the mean scores between two groups, we can use a two-sample independent t-test. This test compares the means of two groups and assesses if the observed difference is statistically significant.\n",
    "\n",
    "Let's perform a t-test using the provided data:\n",
    "\n",
    "Group A: [85, 90, 92, 88, 91]\n",
    "Group B: [82, 88, 90, 86, 87]\n",
    "\n",
    "Step 1: Calculate the means of each group.\n",
    "Mean of Group A = (85 + 90 + 92 + 88 + 91) / 5 = 89.2\n",
    "Mean of Group B = (82 + 88 + 90 + 86 + 87) / 5 = 86.6\n",
    "\n",
    "Step 2: Calculate the standard deviations of each group.\n",
    "Standard deviation of Group A = sqrt(((85-89.2)^2 + (90-89.2)^2 + (92-89.2)^2 + (88-89.2)^2 + (91-89.2)^2) / 4) ≈ 2.65\n",
    "Standard deviation of Group B = sqrt(((82-86.6)^2 + (88-86.6)^2 + (90-86.6)^2 + (86-86.6)^2 + (87-86.6)^2) / 4) ≈ 2.29\n",
    "\n",
    "Step 3: Calculate the t-value.\n",
    "t-value = (Mean of Group A - Mean of Group B) / sqrt((Standard deviation of Group A^2 / Sample size of Group A) + (Standard deviation of Group B^2 / Sample size of Group B))\n",
    "t-value = (89.2 - 86.6) / sqrt((2.65^2 / 5) + (2.29^2 / 5)) ≈ 1.08\n",
    "\n",
    "Step 4: Determine the degrees of freedom.\n",
    "Degrees of freedom = Sample size of Group A + Sample size of Group B - 2 = 5 + 5 - 2 = 8\n",
    "\n",
    "Step 5: Look up the critical t-value and compare it with the calculated t-value.\n",
    "The critical t-value depends on the desired significance level (e.g., 0.05) and the degrees of freedom. For a two-tailed test at a 0.05 significance level with 8 degrees of freedom, the critical t-value is approximately ±2.31.\n",
    "\n",
    "Step 6: Make a conclusion.\n",
    "If the calculated t-value is greater than the critical t-value or less than the negative of the critical t-value, then the difference in means is considered statistically significant. In this case, the calculated t-value of 1.08 is smaller than the critical t-value of ±2.31.\n",
    "\n",
    "Therefore, based on this t-test, we do not have sufficient evidence to conclude that there is a significant difference in the mean scores between Group A and Group B at a 0.05 significance level."
   ]
  }
 ],
 "metadata": {
  "kernelspec": {
   "display_name": "Python 3 (ipykernel)",
   "language": "python",
   "name": "python3"
  },
  "language_info": {
   "codemirror_mode": {
    "name": "ipython",
    "version": 3
   },
   "file_extension": ".py",
   "mimetype": "text/x-python",
   "name": "python",
   "nbconvert_exporter": "python",
   "pygments_lexer": "ipython3",
   "version": "3.10.9"
  }
 },
 "nbformat": 4,
 "nbformat_minor": 5
}
