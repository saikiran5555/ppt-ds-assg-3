{
 "cells": [
  {
   "cell_type": "markdown",
   "id": "d11f96af",
   "metadata": {},
   "source": [
    "To perform a Mann-Whitney U test to determine if there is a significant difference in the median preferences between Group A and Group B, we can use the following steps:\n",
    "\n",
    "Given the data:\n",
    "Group A: [4, 3, 5, 2, 4]\n",
    "Group B: [3, 2, 4, 3, 3]\n",
    "\n",
    "Step 1: Rank the data.\n",
    "Combine the data from both groups and rank them in ascending order without considering group membership. Assign ranks based on their position in the combined sorted list, assigning the lowest rank to the smallest value and incrementing the rank by 1 for each subsequent value.\n",
    "\n",
    "Combined sorted data: [2, 2, 3, 3, 3, 4, 4, 4, 5]\n",
    "\n",
    "Ranks: [1, 2, 3, 4, 4, 6, 6, 6, 9]\n",
    "\n",
    "Step 2: Calculate the sum of ranks for each group.\n",
    "Sum of ranks for Group A = 1 + 2 + 4 + 6 + 6 = 19\n",
    "Sum of ranks for Group B = 3 + 3 + 4 + 4 + 9 = 23\n",
    "\n",
    "Step 3: Calculate the U statistic for each group.\n",
    "U statistic for Group A = n1 * n2 + (n1 * (n1 + 1)) / 2 - sum of ranks for Group A\n",
    "                       = 5 * 5 + (5 * (5 + 1)) / 2 - 19\n",
    "                       = 25 + 15 - 19\n",
    "                       = 21\n",
    "U statistic for Group B = n1 * n2 + (n2 * (n2 + 1)) / 2 - sum of ranks for Group B\n",
    "                       = 5 * 5 + (5 * (5 + 1)) / 2 - 23\n",
    "                       = 25 + 15 - 23\n",
    "                       = 17\n",
    "\n",
    "Step 4: Calculate the smaller U statistic.\n",
    "Smaller U statistic = min(U statistic for Group A, U statistic for Group B)\n",
    "                    = min(21, 17)\n",
    "                    = 17\n",
    "\n",
    "Step 5: Calculate the expected value of U under the null hypothesis.\n",
    "Expected value of U = (n1 * n2) / 2 = (5 * 5) / 2 = 12.5\n",
    "\n",
    "Step 6: Calculate the standard deviation of U under the null hypothesis.\n",
    "Standard deviation of U = sqrt((n1 * n2 * (n1 + n2 + 1)) / 12)\n",
    "                       = sqrt((5 * 5 * (5 + 5 + 1)) / 12)\n",
    "                       = sqrt(125 / 12)\n",
    "                       ≈ 2.89\n",
    "\n",
    "Step 7: Calculate the z-score.\n",
    "z-score = (Smaller U statistic - Expected value of U) / Standard deviation of U\n",
    "        = (17 - 12.5) / 2.89\n",
    "        ≈ 1.55\n",
    "\n",
    "Step 8: Determine the critical z-value for the desired significance level.\n",
    "The critical z-value depends on the desired significance level (e.g., 0.05). For a two-tailed test at a 0.05 significance level, the critical z-value is approximately ±1.96.\n",
    "\n",
    "Step 9: Make a conclusion.\n",
    "If the calculated z-score falls outside the range of the critical z-values (either greater than the positive critical z-value or less than the negative critical z-value), we reject the null hypothesis and conclude that there is a significant difference in the median preferences between the two groups. In this case, the calculated z-score of 1.55 falls within the range of -1.96 to 1.96.\n",
    "\n",
    "Therefore, based on this Mann-Whitney U test, we do not have sufficient evidence to conclude that there is a significant difference in the median preferences between Group A and Group B at a 0.05 significance level.\n"
   ]
  }
 ],
 "metadata": {
  "kernelspec": {
   "display_name": "Python 3 (ipykernel)",
   "language": "python",
   "name": "python3"
  },
  "language_info": {
   "codemirror_mode": {
    "name": "ipython",
    "version": 3
   },
   "file_extension": ".py",
   "mimetype": "text/x-python",
   "name": "python",
   "nbconvert_exporter": "python",
   "pygments_lexer": "ipython3",
   "version": "3.10.9"
  }
 },
 "nbformat": 4,
 "nbformat_minor": 5
}
