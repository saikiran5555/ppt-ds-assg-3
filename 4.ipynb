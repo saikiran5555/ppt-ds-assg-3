{
 "cells": [
  {
   "cell_type": "markdown",
   "id": "54a1f689",
   "metadata": {},
   "source": [
    "To calculate the range of the stock prices, we need to find the difference between the highest and lowest values in the data set.\n",
    "\n",
    "Given the data set [25.5, 24.8, 26.1, 25.3, 24.9], we can determine the range as follows:\n",
    "\n",
    "Highest value: 26.1\n",
    "Lowest value: 24.8\n",
    "\n",
    "Range of the stock prices = Highest value - Lowest value = 26.1 - 24.8 = 1.3\n",
    "\n",
    "Therefore, the range of the stock prices is 1.3."
   ]
  }
 ],
 "metadata": {
  "kernelspec": {
   "display_name": "Python 3 (ipykernel)",
   "language": "python",
   "name": "python3"
  },
  "language_info": {
   "codemirror_mode": {
    "name": "ipython",
    "version": 3
   },
   "file_extension": ".py",
   "mimetype": "text/x-python",
   "name": "python",
   "nbconvert_exporter": "python",
   "pygments_lexer": "ipython3",
   "version": "3.10.9"
  }
 },
 "nbformat": 4,
 "nbformat_minor": 5
}
