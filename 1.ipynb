{
 "cells": [
  {
   "cell_type": "markdown",
   "id": "b26669fa",
   "metadata": {},
   "source": [
    "To calculate the mean sales for each region, we need to sum up the sales values for each region and then divide it by the number of data points in each region.\n",
    "Region A: [10, 15, 12, 8, 14]\n",
    "Total sales in Region A = 10 + 15 + 12 + 8 + 14 = 59\n",
    "Number of data points in Region A = 5\n",
    "Mean sales in Region A = Total sales in Region A / Number of data points in Region A = 59 / 5 = 11.8\n",
    "\n",
    "Region B: [18, 20, 16, 22, 25]\n",
    "Total sales in Region B = 18 + 20 + 16 + 22 + 25 = 101\n",
    "Number of data points in Region B = 5\n",
    "Mean sales in Region B = Total sales in Region B / Number of data points in Region B = 101 / 5 = 20.2"
   ]
  }
 ],
 "metadata": {
  "kernelspec": {
   "display_name": "Python 3 (ipykernel)",
   "language": "python",
   "name": "python3"
  },
  "language_info": {
   "codemirror_mode": {
    "name": "ipython",
    "version": 3
   },
   "file_extension": ".py",
   "mimetype": "text/x-python",
   "name": "python",
   "nbconvert_exporter": "python",
   "pygments_lexer": "ipython3",
   "version": "3.10.9"
  }
 },
 "nbformat": 4,
 "nbformat_minor": 5
}
