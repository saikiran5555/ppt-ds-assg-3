{
 "cells": [
  {
   "cell_type": "markdown",
   "id": "23bbee55",
   "metadata": {},
   "source": [
    "To perform a simple linear regression to predict sales based on price, we can use the least squares method to fit a linear model to the data. The linear regression equation can then be used to predict sales for a given price.\n",
    "\n",
    "Given the data:\n",
    "Price (in dollars): [10, 15, 12, 8, 14]\n",
    "Sales: [100, 80, 90, 110, 95]\n",
    "\n",
    "Step 1: Calculate the means of both variables.\n",
    "Mean of Price = (10 + 15 + 12 + 8 + 14) / 5 = 11.8\n",
    "Mean of Sales = (100 + 80 + 90 + 110 + 95) / 5 = 95\n",
    "\n",
    "Step 2: Calculate the deviations from the means for each variable.\n",
    "Deviation for Price = [10 - 11.8, 15 - 11.8, 12 - 11.8, 8 - 11.8, 14 - 11.8] = [-1.8, 3.2, 0.2, -3.8, 2.2]\n",
    "Deviation for Sales = [100 - 95, 80 - 95, 90 - 95, 110 - 95, 95 - 95] = [5, -15, -5, 15, 0]\n",
    "\n",
    "Step 3: Calculate the product of the deviations for each pair of data points.\n",
    "Product of Deviations = [-1.8 * 5, 3.2 * -15, 0.2 * -5, -3.8 * 15, 2.2 * 0] = [-9, -48, -1, -57, 0]\n",
    "\n",
    "Step 4: Calculate the squared deviations for each variable.\n",
    "Squared Deviation for Price = [-1.8^2, 3.2^2, 0.2^2, -3.8^2, 2.2^2] = [3.24, 10.24, 0.04, 14.44, 4.84]\n",
    "Squared Deviation for Sales = [5^2, -15^2, -5^2, 15^2, 0^2] = [25, 225, 25, 225, 0]\n",
    "\n",
    "Step 5: Calculate the sum of the product of deviations and the sum of the squared deviations for each variable.\n",
    "Sum of Product of Deviations = -9 + -48 + -1 + -57 + 0 = -115\n",
    "Sum of Squared Deviation for Price = 3.24 + 10.24 + 0.04 + 14.44 + 4.84 = 32.8\n",
    "Sum of Squared Deviation for Sales = 25 + 225 + 25 + 225 + 0 = 500\n",
    "\n",
    "Step 6: Calculate the slope (β1) of the regression line.\n",
    "β1 = Sum of Product of Deviations / Sum of Squared Deviation for Price\n",
    "    = -115 / 32.8 ≈ -3.51\n",
    "\n",
    "Step 7: Calculate the y-intercept (β0) of the regression line.\n",
    "β0 = Mean of Sales - (β1 * Mean of Price)\n",
    "    = 95 - (-3.51 * 11.8) ≈ 133.31\n",
    "\n",
    "The regression line equation is: Sales = 133.31 - 3.51 * Price\n",
    "\n",
    "Therefore, based on the simple linear regression analysis, the equation can be used to predict sales based on price. The slope (-3.51) indicates that as the price increases, sales tend to decrease. The y-intercept (133.31) represents the predicted sales when the price is zero (which may not be meaningful in this context).\n",
    "\n",
    "Note: It is important to interpret the results of a linear regression analysis carefully, considering assumptions, limitations, and the context of the data."
   ]
  }
 ],
 "metadata": {
  "kernelspec": {
   "display_name": "Python 3 (ipykernel)",
   "language": "python",
   "name": "python3"
  },
  "language_info": {
   "codemirror_mode": {
    "name": "ipython",
    "version": 3
   },
   "file_extension": ".py",
   "mimetype": "text/x-python",
   "name": "python",
   "nbconvert_exporter": "python",
   "pygments_lexer": "ipython3",
   "version": "3.10.9"
  }
 },
 "nbformat": 4,
 "nbformat_minor": 5
}
