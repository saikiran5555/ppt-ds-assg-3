{
 "cells": [
  {
   "cell_type": "markdown",
   "id": "deedd811",
   "metadata": {},
   "source": [
    "To calculate the standard deviation of the heights, we can use the following steps:\n",
    "\n",
    "Step 1: Find the mean of the heights.\n",
    "Mean of the heights = (160 + 170 + 165 + 155 + 175 + 180 + 170) / 7 = 166.43\n",
    "\n",
    "Step 2: Calculate the deviations from the mean for each height.\n",
    "Deviation for each height = [160 - 166.43, 170 - 166.43, 165 - 166.43, 155 - 166.43, 175 - 166.43, 180 - 166.43, 170 - 166.43]\n",
    "                        = [-6.43, 3.57, -1.43, -11.43, 8.57, 13.57, 3.57]\n",
    "\n",
    "Step 3: Square each deviation.\n",
    "Squared deviation for each height = [(-6.43)^2, (3.57)^2, (-1.43)^2, (-11.43)^2, (8.57)^2, (13.57)^2, (3.57)^2]\n",
    "                                = [41.3449, 12.7449, 2.0449, 130.6249, 73.3249, 184.4649, 12.7449]\n",
    "\n",
    "Step 4: Calculate the sum of squared deviations.\n",
    "Sum of squared deviations = 41.3449 + 12.7449 + 2.0449 + 130.6249 + 73.3249 + 184.4649 + 12.7449 = 457.8983\n",
    "\n",
    "Step 5: Divide the sum of squared deviations by the number of data points minus 1, and then take the square root.\n",
    "Standard deviation = sqrt(457.8983 / (7 - 1)) ≈ 6.74\n",
    "\n",
    "Therefore, the standard deviation of the heights is approximately 6.74. The standard deviation provides a measure of the average amount of variation or dispersion in the heights of the group of people."
   ]
  }
 ],
 "metadata": {
  "kernelspec": {
   "display_name": "Python 3 (ipykernel)",
   "language": "python",
   "name": "python3"
  },
  "language_info": {
   "codemirror_mode": {
    "name": "ipython",
    "version": 3
   },
   "file_extension": ".py",
   "mimetype": "text/x-python",
   "name": "python",
   "nbconvert_exporter": "python",
   "pygments_lexer": "ipython3",
   "version": "3.10.9"
  }
 },
 "nbformat": 4,
 "nbformat_minor": 5
}
