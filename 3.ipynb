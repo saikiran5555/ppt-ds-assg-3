{
 "cells": [
  {
   "cell_type": "markdown",
   "id": "6cd788d8",
   "metadata": {},
   "source": [
    "To calculate the median salary for each department, you need to arrange the salaries in each department in ascending order and find the middle value.\n",
    "\n",
    "Department A: [5000, 6000, 5500, 7000]\n",
    "Arranging the salaries in ascending order: [5000, 5500, 6000, 7000]\n",
    "\n",
    "The number of data points in Department A is 4, which is an even number. In this case, the median is calculated by taking the average of the two middle values.\n",
    "\n",
    "Middle values in Department A: 5500 and 6000\n",
    "Median salary in Department A = (5500 + 6000) / 2 = 5750\n",
    "\n",
    "\n",
    "Department B: [4500, 5500, 5800, 6000, 5200]\n",
    "Arranging the salaries in ascending order: [4500, 5200, 5500, 5800, 6000]\n",
    "\n",
    "The number of data points in Department B is 5, which is an odd number. In this case, the median is the middle value.\n",
    "\n",
    "Middle value in Department B: 5500\n",
    "Median salary in Department B = 5500"
   ]
  }
 ],
 "metadata": {
  "kernelspec": {
   "display_name": "Python 3 (ipykernel)",
   "language": "python",
   "name": "python3"
  },
  "language_info": {
   "codemirror_mode": {
    "name": "ipython",
    "version": 3
   },
   "file_extension": ".py",
   "mimetype": "text/x-python",
   "name": "python",
   "nbconvert_exporter": "python",
   "pygments_lexer": "ipython3",
   "version": "3.10.9"
  }
 },
 "nbformat": 4,
 "nbformat_minor": 5
}
