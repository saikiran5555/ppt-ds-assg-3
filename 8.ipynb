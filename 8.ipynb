{
 "cells": [
  {
   "cell_type": "markdown",
   "id": "ec3f9734",
   "metadata": {},
   "source": [
    "To perform a linear regression analysis to predict job satisfaction based on employee tenure, we will calculate the regression line equation using the provided data. The regression line equation can be used to predict job satisfaction for a given employee tenure.\n",
    "\n",
    "Given the data:\n",
    "Employee Tenure (in years): [2, 3, 5, 4, 6, 2, 4]\n",
    "Job Satisfaction (on a scale of 1 to 10): [7, 8, 6, 9, 5, 7, 6]\n",
    "\n",
    "Step 1: Calculate the means of both variables.\n",
    "Mean of Employee Tenure = (2 + 3 + 5 + 4 + 6 + 2 + 4) / 7 = 3.71\n",
    "Mean of Job Satisfaction = (7 + 8 + 6 + 9 + 5 + 7 + 6) / 7 = 6.86\n",
    "\n",
    "Step 2: Calculate the deviations from the means for each variable.\n",
    "Deviation for Employee Tenure = [2 - 3.71, 3 - 3.71, 5 - 3.71, 4 - 3.71, 6 - 3.71, 2 - 3.71, 4 - 3.71]\n",
    "                             = [-1.71, -0.71, 1.29, 0.29, 2.29, -1.71, 0.29]\n",
    "Deviation for Job Satisfaction = [7 - 6.86, 8 - 6.86, 6 - 6.86, 9 - 6.86, 5 - 6.86, 7 - 6.86, 6 - 6.86]\n",
    "                              = [0.14, 1.14, -0.86, 2.14, -1.86, 0.14, -0.86]\n",
    "\n",
    "Step 3: Calculate the product of the deviations for each pair of data points.\n",
    "Product of Deviations = [-1.71 * 0.14, -0.71 * 1.14, 1.29 * -0.86, 0.29 * 2.14, 2.29 * -1.86, -1.71 * 0.14, 0.29 * -0.86]\n",
    "                      = [-0.2394, -0.8094, -1.1106, 0.6206, -4.2546, -0.2394, -0.2494]\n",
    "\n",
    "Step 4: Calculate the squared deviations for each variable.\n",
    "Squared Deviation for Employee Tenure = [-1.71^2, -0.71^2, 1.29^2, 0.29^2, 2.29^2, -1.71^2, 0.29^2]\n",
    "                                     = [2.9241, 0.5041, 1.6641, 0.0841, 5.2441, 2.9241, 0.0841]\n",
    "Squared Deviation for Job Satisfaction = [0.14^2, 1.14^2, -0.86^2, 2.14^2, -1.86^2, 0.14^2, -0.86^2]\n",
    "                                      = [0.0196, 1.2996, 0.7396, 4.5796, 3.4596, 0.0196, 0.7396]\n",
    "\n",
    "Step 5: Calculate the sum of the product of deviations and the sum of the squared deviations for each variable.\n",
    "Sum of Product of Deviations = -0.2394 + -0.8094 + -1.1106 + 0.6206 + -4.2546 + -0.2394 + -0.2494 = -7.3224\n",
    "Sum of Squared Deviation for Employee Tenure = 2.9241 + 0.5041 + 1.6641 + 0.0841 + 5.2441 + 2.9241 + 0.0841 = 13.4346\n",
    "Sum of Squared Deviation for Job Satisfaction = 0.0196 + 1.2996 + 0.7396 + 4.5796 + 3.4596 + 0.0196 + 0.7396 = 10.8572\n",
    "\n",
    "Step 6: Calculate the slope (β1) of the regression line.\n",
    "β1 = Sum of Product of Deviations / Sum of Squared Deviation for Employee Tenure\n",
    "    = -7.3224 / 13.4346 ≈ -0.545\n",
    "\n",
    "Step 7: Calculate the y-intercept (β0) of the regression line.\n",
    "β0 = Mean of Job Satisfaction - (β1 * Mean of Employee Tenure)\n",
    "    = 6.86 - (-0.545 * 3.71) ≈ 8.03\n",
    "\n",
    "The regression line equation is: Job Satisfaction = 8.03 - 0.545 * Employee Tenure\n",
    "\n",
    "Therefore, based on the linear regression analysis, the equation can be used to predict job satisfaction based on employee tenure. The slope (-0.545) indicates that as employee tenure increases, job satisfaction tends to decrease. The y-intercept (8.03) represents the predicted job satisfaction when the employee tenure is zero."
   ]
  }
 ],
 "metadata": {
  "kernelspec": {
   "display_name": "Python 3 (ipykernel)",
   "language": "python",
   "name": "python3"
  },
  "language_info": {
   "codemirror_mode": {
    "name": "ipython",
    "version": 3
   },
   "file_extension": ".py",
   "mimetype": "text/x-python",
   "name": "python",
   "nbconvert_exporter": "python",
   "pygments_lexer": "ipython3",
   "version": "3.10.9"
  }
 },
 "nbformat": 4,
 "nbformat_minor": 5
}
