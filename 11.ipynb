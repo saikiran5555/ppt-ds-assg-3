{
 "cells": [
  {
   "cell_type": "markdown",
   "id": "40666d62",
   "metadata": {},
   "source": [
    "To perform a hypothesis test to determine if the mean weight differs significantly from 10 grams, we can use a one-sample t-test. This test compares the sample mean to a hypothesized population mean and assesses if there is a significant difference.\n",
    "\n",
    "Given the data:\n",
    "Weights of the sample: [10.2, 9.8, 10.0, 10.5, 10.3, 10.1]\n",
    "Hypothesized population mean: 10 grams\n",
    "\n",
    "Step 1: Calculate the sample mean.\n",
    "Sample mean = (10.2 + 9.8 + 10.0 + 10.5 + 10.3 + 10.1) / 6 = 10.1667\n",
    "\n",
    "Step 2: Calculate the sample standard deviation.\n",
    "Sample standard deviation = sqrt(((10.2 - 10.1667)^2 + (9.8 - 10.1667)^2 + (10.0 - 10.1667)^2 + (10.5 - 10.1667)^2 + (10.3 - 10.1667)^2 + (10.1 - 10.1667)^2) / (6 - 1)) ≈ 0.206\n",
    "\n",
    "Step 3: Calculate the t-value.\n",
    "t-value = (Sample mean - Hypothesized mean) / (Sample standard deviation / sqrt(Sample size))\n",
    "t-value = (10.1667 - 10) / (0.206 / sqrt(6)) ≈ 1.128\n",
    "\n",
    "Step 4: Determine the degrees of freedom.\n",
    "Degrees of freedom = Sample size - 1 = 6 - 1 = 5\n",
    "\n",
    "Step 5: Look up the critical t-value and compare it with the calculated t-value.\n",
    "The critical t-value depends on the desired significance level (e.g., 0.05) and the degrees of freedom. For a two-tailed test at a 0.05 significance level with 5 degrees of freedom, the critical t-value is approximately ±2.571.\n",
    "\n",
    "Step 6: Make a conclusion.\n",
    "If the calculated t-value falls outside the range of the critical t-values (either greater than the positive critical t-value or less than the negative critical t-value), we reject the null hypothesis and conclude that the mean weight differs significantly from 10 grams. In this case, the calculated t-value of 1.128 falls within the range of -2.571 to 2.571.\n",
    "\n",
    "Therefore, based on this hypothesis test, we do not have sufficient evidence to conclude that the mean weight significantly differs from 10 grams at a 0.05 significance level."
   ]
  }
 ],
 "metadata": {
  "kernelspec": {
   "display_name": "Python 3 (ipykernel)",
   "language": "python",
   "name": "python3"
  },
  "language_info": {
   "codemirror_mode": {
    "name": "ipython",
    "version": 3
   },
   "file_extension": ".py",
   "mimetype": "text/x-python",
   "name": "python",
   "nbconvert_exporter": "python",
   "pygments_lexer": "ipython3",
   "version": "3.10.9"
  }
 },
 "nbformat": 4,
 "nbformat_minor": 5
}
