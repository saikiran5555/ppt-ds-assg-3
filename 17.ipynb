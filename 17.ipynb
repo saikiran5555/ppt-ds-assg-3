{
 "cells": [
  {
   "cell_type": "markdown",
   "id": "bf3afd39",
   "metadata": {},
   "source": [
    "To perform a Kruskal-Wallis test to determine if there is a significant difference in the median accuracy scores between the algorithms, we can use the following steps:\n",
    "\n",
    "Given the data:\n",
    "Algorithm A: [0.85, 0.80, 0.82, 0.87, 0.83]\n",
    "Algorithm B: [0.78, 0.82, 0.84, 0.80, 0.79]\n",
    "Algorithm C: [0.90, 0.88, 0.89, 0.86, 0.87]\n",
    "\n",
    "Step 1: Combine the data from all algorithms and assign ranks.\n",
    "Combine the data from all algorithms into a single dataset, and assign ranks to the values without considering the algorithm grouping. Assign ranks based on their position in the combined sorted list, with the lowest rank assigned to the smallest value and incrementing the rank by 1 for each subsequent value.\n",
    "\n",
    "Combined sorted data: [0.78, 0.79, 0.80, 0.80, 0.82, 0.83, 0.84, 0.85, 0.86, 0.87, 0.87, 0.88, 0.89, 0.90]\n",
    "\n",
    "Ranks: [1, 2, 3.5, 3.5, 5, 6, 7, 8, 9, 10.5, 10.5, 12, 13, 14]\n",
    "\n",
    "Step 2: Calculate the sum of ranks for each algorithm.\n",
    "Sum of ranks for Algorithm A = 3.5 + 5 + 6 + 8 + 9 = 31.5\n",
    "Sum of ranks for Algorithm B = 1 + 3.5 + 7 + 10.5 + 12 = 34\n",
    "Sum of ranks for Algorithm C = 2 + 10.5 + 10.5 + 13 + 14 = 50\n",
    "\n",
    "Step 3: Calculate the number of data points in each algorithm.\n",
    "Number of data points in Algorithm A = 5\n",
    "Number of data points in Algorithm B = 5\n",
    "Number of data points in Algorithm C = 5\n",
    "\n",
    "Step 4: Calculate the Kruskal-Wallis H statistic.\n",
    "H = (12 / (N * (N + 1))) * (sum of ranks for each algorithm^2 / number of data points in each algorithm) - 3 * (N + 1)\n",
    "H = (12 / (15 * (15 + 1))) * ((31.5^2 / 5) + (34^2 / 5) + (50^2 / 5)) - 3 * (15 + 1)\n",
    "H ≈ 8.55\n",
    "\n",
    "Step 5: Determine the critical value for the desired significance level and degrees of freedom.\n",
    "The critical value depends on the desired significance level (e.g., 0.05) and the degrees of freedom (df = k - 1, where k is the number of groups). For a significance level of 0.05 and df = 2 (3 - 1), the critical value is approximately 5.991.\n",
    "\n",
    "Step 6: Make a conclusion.\n",
    "If the calculated H statistic is greater than the critical value, we reject the null hypothesis and conclude that there is a significant difference in the median accuracy scores between the algorithms. In this case, the calculated H statistic of 8.55 is greater than the critical value of 5.991.\n",
    "\n",
    "Therefore, based on this Kruskal-Wallis test, we have sufficient evidence to conclude that there is a significant difference in the median accuracy scores between the algorithms at a 0.05 significance level."
   ]
  }
 ],
 "metadata": {
  "kernelspec": {
   "display_name": "Python 3 (ipykernel)",
   "language": "python",
   "name": "python3"
  },
  "language_info": {
   "codemirror_mode": {
    "name": "ipython",
    "version": 3
   },
   "file_extension": ".py",
   "mimetype": "text/x-python",
   "name": "python",
   "nbconvert_exporter": "python",
   "pygments_lexer": "ipython3",
   "version": "3.10.9"
  }
 },
 "nbformat": 4,
 "nbformat_minor": 5
}
