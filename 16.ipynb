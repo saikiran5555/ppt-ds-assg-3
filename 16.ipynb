{
 "cells": [
  {
   "cell_type": "markdown",
   "id": "148394c3",
   "metadata": {},
   "source": [
    "To calculate the interquartile range (IQR) of the ages, you need to determine the range between the first quartile (Q1) and the third quartile (Q3) of the data.\n",
    "\n",
    "Given the data set [25, 30, 35, 40, 45, 50, 55, 60, 65, 70], we can first sort the data in ascending order:\n",
    "\n",
    "[25, 30, 35, 40, 45, 50, 55, 60, 65, 70]\n",
    "\n",
    "Step 1: Calculate the position of the first quartile (Q1).\n",
    "Q1 = (1/4) * (N + 1) = (1/4) * (10 + 1) = 2.75\n",
    "Since the position is not a whole number, we can take the average of the values at positions 2 and 3: (30 + 35) / 2 = 32.5\n",
    "\n",
    "Step 2: Calculate the position of the third quartile (Q3).\n",
    "Q3 = (3/4) * (N + 1) = (3/4) * (10 + 1) = 8.25\n",
    "Again, we take the average of the values at positions 8 and 9: (60 + 65) / 2 = 62.5\n",
    "\n",
    "Step 3: Calculate the interquartile range (IQR).\n",
    "IQR = Q3 - Q1 = 62.5 - 32.5 = 30\n",
    "\n",
    "Hence, the interquartile range (IQR) of the ages is 30."
   ]
  }
 ],
 "metadata": {
  "kernelspec": {
   "display_name": "Python 3 (ipykernel)",
   "language": "python",
   "name": "python3"
  },
  "language_info": {
   "codemirror_mode": {
    "name": "ipython",
    "version": 3
   },
   "file_extension": ".py",
   "mimetype": "text/x-python",
   "name": "python",
   "nbconvert_exporter": "python",
   "pygments_lexer": "ipython3",
   "version": "3.10.9"
  }
 },
 "nbformat": 4,
 "nbformat_minor": 5
}
