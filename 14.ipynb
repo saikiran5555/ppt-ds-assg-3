{
 "cells": [
  {
   "cell_type": "markdown",
   "id": "a3c2b078",
   "metadata": {},
   "source": [
    "To perform a simple linear regression to predict performance based on temperature, we can use the least squares method to fit a linear model to the data. The linear regression equation can then be used to predict performance for a given temperature.\n",
    "\n",
    "Given the data:\n",
    "Temperature (in degrees Celsius): [20, 22, 23, 19, 21]\n",
    "Performance (on a scale of 1 to 10): [8, 7, 9, 6, 8]\n",
    "\n",
    "Step 1: Calculate the means of both variables.\n",
    "Mean of Temperature = (20 + 22 + 23 + 19 + 21) / 5 = 21\n",
    "Mean of Performance = (8 + 7 + 9 + 6 + 8) / 5 = 7.6\n",
    "\n",
    "Step 2: Calculate the deviations from the means for each variable.\n",
    "Deviation for Temperature = [20 - 21, 22 - 21, 23 - 21, 19 - 21, 21 - 21] = [-1, 1, 2, -2, 0]\n",
    "Deviation for Performance = [8 - 7.6, 7 - 7.6, 9 - 7.6, 6 - 7.6, 8 - 7.6] = [0.4, -0.6, 1.4, -1.6, 0.4]\n",
    "\n",
    "Step 3: Calculate the product of the deviations for each pair of data points.\n",
    "Product of Deviations = [-1 * 0.4, 1 * -0.6, 2 * 1.4, -2 * -1.6, 0 * 0.4] = [-0.4, -0.6, 2.8, 3.2, 0]\n",
    "\n",
    "Step 4: Calculate the squared deviations for each variable.\n",
    "Squared Deviation for Temperature = [-1^2, 1^2, 2^2, -2^2, 0^2] = [1, 1, 4, 4, 0]\n",
    "Squared Deviation for Performance = [0.4^2, -0.6^2, 1.4^2, -1.6^2, 0.4^2] = [0.16, 0.36, 1.96, 2.56, 0.16]\n",
    "\n",
    "Step 5: Calculate the sum of the product of deviations and the sum of the squared deviations for each variable.\n",
    "Sum of Product of Deviations = -0.4 + -0.6 + 2.8 + 3.2 + 0 = 4\n",
    "Sum of Squared Deviation for Temperature = 1 + 1 + 4 + 4 + 0 = 10\n",
    "Sum of Squared Deviation for Performance = 0.16 + 0.36 + 1.96 + 2.56 + 0.16 = 5.2\n",
    "\n",
    "Step 6: Calculate the slope (β1) of the regression line.\n",
    "β1 = Sum of Product of Deviations / Sum of Squared Deviation for Temperature\n",
    "    = 4 / 10 = 0.4\n",
    "\n",
    "Step 7: Calculate the y-intercept (β0) of the regression line.\n",
    "β0 = Mean of Performance - (β1 * Mean of Temperature)\n",
    "    = 7.6 - (0.4 * 21) = -0.6\n",
    "\n",
    "The regression line equation is: Performance = -0.6 + 0.4 * Temperature\n",
    "\n",
    "Therefore, based on the simple linear regression analysis, the equation can be used to predict performance based on temperature. The slope (0.4) indicates that as temperature increases, performance tends to increase. The y-intercept (-0.6) represents the predicted performance when the temperature is zero (which may not be meaningful in this context).\n",
    "\n",
    "Note: It is important to interpret the results of a linear regression analysis carefully, considering assumptions, limitations, and the context of the data."
   ]
  }
 ],
 "metadata": {
  "kernelspec": {
   "display_name": "Python 3 (ipykernel)",
   "language": "python",
   "name": "python3"
  },
  "language_info": {
   "codemirror_mode": {
    "name": "ipython",
    "version": 3
   },
   "file_extension": ".py",
   "mimetype": "text/x-python",
   "name": "python",
   "nbconvert_exporter": "python",
   "pygments_lexer": "ipython3",
   "version": "3.10.9"
  }
 },
 "nbformat": 4,
 "nbformat_minor": 5
}
